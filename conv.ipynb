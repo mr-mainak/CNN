{
 "cells": [
  {
   "cell_type": "code",
   "execution_count": 6,
   "metadata": {},
   "outputs": [],
   "source": [
    "import numpy as np\n",
    "import cv2\n",
    "import matplotlib.pyplot as plt"
   ]
  },
  {
   "cell_type": "code",
   "execution_count": 68,
   "metadata": {},
   "outputs": [],
   "source": [
    "class convolution:\n",
    "\n",
    "    '''\n",
    "    padding : Some value [0,inf). If padding = 2, that means on one side 2 rows or \n",
    "              columns of zeros will be added. Thus if n x n and padding = 2 then output\n",
    "              will ne n+2*2 x n+2*2\n",
    "    filter : an numpy array\n",
    "    stride : Some value \n",
    "    '''\n",
    "    \n",
    "    def __init__(self,image_path,filter,padding,stride):\n",
    "        self.img = image_path\n",
    "        self.filter = filter\n",
    "        self.padding = padding\n",
    "        self.stride = stride\n",
    "\n",
    "    def read_img(self,width,height):\n",
    "        img = cv2.imread(self.img,0)\n",
    "        img = cv2.resize(img,(width,height))\n",
    "        return img\n",
    "\n",
    "    def target_size(self,image_shape):\n",
    "        filter_shape = self.kernels().shape[0]\n",
    "        final_shape = image_shape + self.padding - filter_shape + 1\n",
    "        return final_shape\n",
    "\n",
    "    def conv2d(self,width,height):\n",
    "        img = self.read_img(width,height)\n",
    "        #Double Flip the Mask\n",
    "        k = np.flipud(np.fliplr(self.kernels()))\n",
    "\n",
    "        if self.padding is not None:\n",
    "            pad_image = np.zeros((int(img.shape[0])+2*self.padding,int(img.shape[1])+2*self.padding),dtype='float')\n",
    "            pad_image[self.padding:int(img.shape[0])+self.padding,self.padding:int(img.shape[1])+self.padding] = img\n",
    "            img = pad_image\n",
    "            output = np.zeros((self.target_size(img.shape[0]),self.target_size(img.shape[1])))\n",
    "        else:\n",
    "            output = np.zeros((self.target_size(img.shape[0],self.target_size(img.shape[1]))))\n",
    "        \n",
    "        print(output.shape)\n",
    "\n",
    "        #Run convolution\n",
    "        m,n = self.kernels().shape[0],self.kernels().shape[1]\n",
    "        for i in range(output.shape[0]-m+1):\n",
    "            for j in range(output.shape[1]-n+1):\n",
    "                output[i,j] = (self.kernels() * img[i:m+i,j:n+j]).sum()\n",
    "        \n",
    "        return output\n",
    "\n",
    "    def kernels(self):\n",
    "        if self.filter == 'prewitt':\n",
    "            filter = np.array([[-1,-1,-1],[0,0,0],[1,1,1]])\n",
    "            return filter\n",
    "\n",
    "        "
   ]
  },
  {
   "cell_type": "code",
   "execution_count": 69,
   "metadata": {},
   "outputs": [],
   "source": [
    "conv = convolution(image_path='/home/mainak/Pictures/key.jpeg',filter='prewitt',padding=0,stride=None)"
   ]
  },
  {
   "cell_type": "code",
   "execution_count": 70,
   "metadata": {},
   "outputs": [
    {
     "name": "stdout",
     "output_type": "stream",
     "text": [
      "(222, 222)\n"
     ]
    }
   ],
   "source": [
    "op = conv.conv2d(width=224,height=224)"
   ]
  },
  {
   "cell_type": "code",
   "execution_count": null,
   "metadata": {},
   "outputs": [],
   "source": []
  }
 ],
 "metadata": {
  "kernelspec": {
   "display_name": "Python 3.8.10 ('virtual': venv)",
   "language": "python",
   "name": "python3"
  },
  "language_info": {
   "codemirror_mode": {
    "name": "ipython",
    "version": 3
   },
   "file_extension": ".py",
   "mimetype": "text/x-python",
   "name": "python",
   "nbconvert_exporter": "python",
   "pygments_lexer": "ipython3",
   "version": "3.8.10"
  },
  "orig_nbformat": 4,
  "vscode": {
   "interpreter": {
    "hash": "b80c72f4548cae5a98ec476b16e55c97948409649ee2b344e26ccc876ba41ade"
   }
  }
 },
 "nbformat": 4,
 "nbformat_minor": 2
}
